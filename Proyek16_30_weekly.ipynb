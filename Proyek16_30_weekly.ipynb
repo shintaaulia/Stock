{
  "nbformat": 4,
  "nbformat_minor": 0,
  "metadata": {
    "colab": {
      "name": "Proyek16-30 weekly.ipynb",
      "provenance": [],
      "collapsed_sections": []
    },
    "kernelspec": {
      "name": "python3",
      "display_name": "Python 3"
    },
    "language_info": {
      "name": "python"
    }
  },
  "cells": [
    {
      "cell_type": "code",
      "metadata": {
        "id": "lr3Jsm45lu7A"
      },
      "source": [
        "import csv\n",
        "import pandas as pd"
      ],
      "execution_count": 73,
      "outputs": []
    },
    {
      "cell_type": "code",
      "metadata": {
        "colab": {
          "base_uri": "https://localhost:8080/"
        },
        "id": "UX8HyLQ3mKwx",
        "outputId": "e36e945f-ea93-4d9a-ef97-858889f6370e"
      },
      "source": [
        "#16\n",
        "#SAHAM INCO\n",
        "\n",
        "df_INCO = pd.read_csv(r'/content/drive/MyDrive/DATA PENELITIAN weekly/INCO.JK.csv')\n",
        "ARB = (df_INCO['Low']-df_INCO['Open'])/df_INCO['Open']\n",
        "ARA = (df_INCO['High']-df_INCO['Open'])/df_INCO['Open']\n",
        "shmbca = {'Date' : df_INCO['Date'],\n",
        "          'Open' : df_INCO['Open'],\n",
        "          'High' : df_INCO['High'],\n",
        "          'Low'  : df_INCO['Low'],\n",
        "          'ARA'  : ARA,\n",
        "          'ARB'  : ARB,\n",
        "          }\n",
        "\n",
        "df_INCO_baru = pd.DataFrame(shmbca, columns= ['Date','Open', 'High', 'Low','ARA','ARB'])\n",
        "shmARB_INCO = df_INCO_baru.loc[df_INCO_baru['ARB'] < -0.06]\n",
        "shmARA_INCO = df_INCO_baru.loc[df_INCO_baru['ARA'] > 0.2]\n",
        "print('-'*20)\n",
        "print('Saham yang menyentuh upper limit')\n",
        "print(shmARA_INCO)\n",
        "print('-'*20)\n",
        "print('Saham yang menyentuh lower limit')\n",
        "print(shmARB_INCO)\n"
      ],
      "execution_count": 74,
      "outputs": [
        {
          "output_type": "stream",
          "text": [
            "--------------------\n",
            "Saham yang menyentuh upper limit\n",
            "          Date    Open    High     Low       ARA       ARB\n",
            "2   2020-03-23  1480.0  2070.0  1405.0  0.398649 -0.050676\n",
            "3   2020-03-30  1960.0  2370.0  1860.0  0.209184 -0.051020\n",
            "8   2020-05-04  2490.0  3100.0  2450.0  0.244980 -0.016064\n",
            "31  2020-10-12  3750.0  4700.0  3750.0  0.253333  0.000000\n",
            "43  2021-01-04  5200.0  7000.0  5000.0  0.346154 -0.038462\n",
            "--------------------\n",
            "Saham yang menyentuh lower limit\n",
            "          Date    Open    High     Low       ARA       ARB\n",
            "1   2020-03-16  1880.0  1880.0  1340.0  0.000000 -0.287234\n",
            "4   2020-04-06  2360.0  2580.0  2070.0  0.093220 -0.122881\n",
            "6   2020-04-20  2550.0  2660.0  2330.0  0.043137 -0.086275\n",
            "9   2020-05-11  3080.0  3190.0  2850.0  0.035714 -0.074675\n",
            "11  2020-05-25  2960.0  3080.0  2740.0  0.040541 -0.074324\n",
            "13  2020-06-08  3070.0  3140.0  2750.0  0.022801 -0.104235\n",
            "21  2020-08-03  3420.0  3750.0  3190.0  0.096491 -0.067251\n",
            "26  2020-09-07  3920.0  3950.0  3550.0  0.007653 -0.094388\n",
            "28  2020-09-21  3910.0  3910.0  3420.0  0.000000 -0.125320\n",
            "41  2020-12-21  5450.0  5500.0  4800.0  0.009174 -0.119266\n",
            "45  2021-01-18  6600.0  6875.0  5775.0  0.041667 -0.125000\n",
            "46  2021-01-25  6300.0  6575.0  5225.0  0.043651 -0.170635\n",
            "47  2021-02-01  5600.0  6375.0  5225.0  0.138393 -0.066964\n",
            "49  2021-02-15  6375.0  6425.0  5950.0  0.007843 -0.066667\n",
            "50  2021-02-22  6475.0  6625.0  5925.0  0.023166 -0.084942\n",
            "51  2021-03-01  6150.0  6175.0  5150.0  0.004065 -0.162602\n",
            "52  2021-03-08  5200.0  5275.0  4460.0  0.014423 -0.142308\n"
          ],
          "name": "stdout"
        }
      ]
    },
    {
      "cell_type": "code",
      "metadata": {
        "colab": {
          "base_uri": "https://localhost:8080/"
        },
        "id": "nG6e7xJ6n_xr",
        "outputId": "2c089a2f-a405-4bc8-c54b-b9e46f7e37b5"
      },
      "source": [
        "#17\n",
        "#SAHAM INDF\n",
        "\n",
        "df_INDF = pd.read_csv(r'/content/drive/MyDrive/DATA PENELITIAN weekly/INDF.JK.csv')\n",
        "ARB = (df_INDF['Low']-df_INDF['Open'])/df_INDF['Open']\n",
        "ARA = (df_INDF['High']-df_INDF['Open'])/df_INDF['Open']\n",
        "shmbca = {'Date' : df_INDF['Date'],\n",
        "          'Open' : df_INDF['Open'],\n",
        "          'High' : df_INDF['High'],\n",
        "          'Low'  : df_INDF['Low'],\n",
        "          'ARA'  : ARA,\n",
        "          'ARB'  : ARB,\n",
        "          }\n",
        "\n",
        "df_INDF_baru = pd.DataFrame(shmbca, columns= ['Date','Open', 'High', 'Low','ARA','ARB'])\n",
        "shmARB_INDF = df_INDF_baru.loc[df_INDF_baru['ARB'] < -0.06]\n",
        "shmARA_INDF = df_INDF_baru.loc[df_INDF_baru['ARA'] > 0.2]\n",
        "print('-'*20)\n",
        "print('Saham yang menyentuh upper limit')\n",
        "print(shmARA_INDF)\n",
        "print('-'*20)\n",
        "print('Saham yang menyentuh lower limit')\n",
        "print(shmARB_INDF)"
      ],
      "execution_count": 75,
      "outputs": [
        {
          "output_type": "stream",
          "text": [
            "--------------------\n",
            "Saham yang menyentuh upper limit\n",
            "Empty DataFrame\n",
            "Columns: [Date, Open, High, Low, ARA, ARB]\n",
            "Index: []\n",
            "--------------------\n",
            "Saham yang menyentuh lower limit\n",
            "          Date    Open    High     Low       ARA       ARB\n",
            "1   2020-03-16  6900.0  7000.0  5275.0  0.014493 -0.235507\n",
            "2   2020-03-23  5750.0  6800.0  5000.0  0.182609 -0.130435\n",
            "3   2020-03-30  6550.0  6925.0  6050.0  0.057252 -0.076336\n",
            "4   2020-04-06  6700.0  6875.0  6125.0  0.026119 -0.085821\n",
            "9   2020-05-11  6700.0  6725.0  6200.0  0.003731 -0.074627\n",
            "11  2020-05-25  6425.0  6425.0  5225.0  0.000000 -0.186770\n",
            "26  2020-09-07  7600.0  8000.0  7000.0  0.052632 -0.078947\n",
            "28  2020-09-21  7575.0  7650.0  7050.0  0.009901 -0.069307\n",
            "46  2021-01-25  6675.0  6750.0  6050.0  0.011236 -0.093633\n"
          ],
          "name": "stdout"
        }
      ]
    },
    {
      "cell_type": "code",
      "metadata": {
        "colab": {
          "base_uri": "https://localhost:8080/"
        },
        "id": "-Of5p5I9ob5w",
        "outputId": "5dbb70fd-50cd-4370-ff9e-5f77402ef96f"
      },
      "source": [
        "#18\n",
        "#SAHAM INKP\n",
        "\n",
        "df_INKP = pd.read_csv(r'/content/drive/MyDrive/DATA PENELITIAN weekly/INKP.JK.csv')\n",
        "ARB = (df_INKP['Low']-df_INKP['Open'])/df_INKP['Open']\n",
        "ARA = (df_INKP['High']-df_INKP['Open'])/df_INKP['Open']\n",
        "shmbca = {'Date' : df_INKP['Date'],\n",
        "          'Open' : df_INKP['Open'],\n",
        "          'High' : df_INKP['High'],\n",
        "          'Low'  : df_INKP['Low'],\n",
        "          'ARA'  : ARA,\n",
        "          'ARB'  : ARB,\n",
        "          }\n",
        "\n",
        "df_INKP_baru = pd.DataFrame(shmbca, columns= ['Date','Open', 'High', 'Low','ARA','ARB'])\n",
        "shmARB_INKP = df_INKP_baru.loc[df_INKP_baru['ARB'] < -0.06]\n",
        "shmARA_INKP = df_INKP_baru.loc[df_INKP_baru['ARA'] > 0.2]\n",
        "print('-'*20)\n",
        "print('Saham yang menyentuh upper limit')\n",
        "print(shmARA_INKP)\n",
        "print('-'*20)\n",
        "print('Saham yang menyentuh lower limit')\n",
        "print(shmARB_INKP)"
      ],
      "execution_count": 76,
      "outputs": [
        {
          "output_type": "stream",
          "text": [
            "--------------------\n",
            "Saham yang menyentuh upper limit\n",
            "          Date     Open     High      Low       ARA       ARB\n",
            "2   2020-03-23   3470.0   4200.0   3020.0  0.210375 -0.129683\n",
            "16  2020-06-29   5500.0   7050.0   5400.0  0.281818 -0.018182\n",
            "17  2020-07-06   6450.0   8075.0   6300.0  0.251938 -0.023256\n",
            "47  2021-02-01  12900.0  15550.0  12500.0  0.205426 -0.031008\n",
            "--------------------\n",
            "Saham yang menyentuh lower limit\n",
            "          Date     Open     High      Low       ARA       ARB\n",
            "1   2020-03-16   4850.0   4850.0   3410.0  0.000000 -0.296907\n",
            "2   2020-03-23   3470.0   4200.0   3020.0  0.210375 -0.129683\n",
            "3   2020-03-30   4100.0   4640.0   3750.0  0.131707 -0.085366\n",
            "6   2020-04-20   5225.0   5400.0   4870.0  0.033493 -0.067943\n",
            "10  2020-05-18   5200.0   5225.0   4850.0  0.004808 -0.067308\n",
            "13  2020-06-08   6025.0   6100.0   5175.0  0.012448 -0.141079\n",
            "14  2020-06-15   5650.0   5850.0   5200.0  0.035398 -0.079646\n",
            "15  2020-06-22   5800.0   5850.0   5450.0  0.008621 -0.060345\n",
            "18  2020-07-13   7875.0   8175.0   7250.0  0.038095 -0.079365\n",
            "19  2020-07-20   8225.0   8250.0   7625.0  0.003040 -0.072948\n",
            "21  2020-08-03   7850.0   8825.0   7275.0  0.124204 -0.073248\n",
            "25  2020-08-31   9550.0   9625.0   8525.0  0.007853 -0.107330\n",
            "26  2020-09-07   8650.0   9425.0   7650.0  0.089595 -0.115607\n",
            "29  2020-09-28   9200.0   9225.0   8525.0  0.002717 -0.073370\n",
            "36  2020-11-16   9550.0   9550.0   8850.0  0.000000 -0.073298\n",
            "38  2020-11-30   9350.0   9675.0   8675.0  0.034759 -0.072193\n",
            "41  2020-12-21  10500.0  10700.0   9750.0  0.019048 -0.071429\n",
            "42  2020-12-28  10800.0  11225.0  10150.0  0.039352 -0.060185\n",
            "50  2021-02-22  14125.0  14800.0  12950.0  0.047788 -0.083186\n",
            "51  2021-03-01  13225.0  13450.0  11900.0  0.017013 -0.100189\n"
          ],
          "name": "stdout"
        }
      ]
    },
    {
      "cell_type": "code",
      "metadata": {
        "colab": {
          "base_uri": "https://localhost:8080/"
        },
        "id": "8ALUdn3QpFKD",
        "outputId": "53a5dfb0-e01d-40f4-8719-7d931095b9f2"
      },
      "source": [
        "#19\n",
        "#SAHAM INTP\n",
        "\n",
        "df_INTP = pd.read_csv(r'/content/drive/MyDrive/DATA PENELITIAN weekly/INTP.JK.csv')\n",
        "ARB = (df_INTP['Low']-df_INTP['Open'])/df_INTP['Open']\n",
        "ARA = (df_INTP['High']-df_INTP['Open'])/df_INTP['Open']\n",
        "shmbca = {'Date' : df_INTP['Date'],\n",
        "          'Open' : df_INTP['Open'],\n",
        "          'High' : df_INTP['High'],\n",
        "          'Low'  : df_INTP['Low'],\n",
        "          'ARA'  : ARA,\n",
        "          'ARB'  : ARB,\n",
        "          }\n",
        "\n",
        "df_INTP_baru = pd.DataFrame(shmbca, columns= ['Date','Open', 'High', 'Low','ARA','ARB'])\n",
        "shmARB_INTP = df_INTP_baru.loc[df_INTP_baru['ARB'] < -0.06]\n",
        "shmARA_INTP = df_INTP_baru.loc[df_INTP_baru['ARA'] > 0.2]\n",
        "print('-'*20)\n",
        "print('Saham yang menyentuh upper limit')\n",
        "print(shmARA_INTP)\n",
        "print('-'*20)\n",
        "print('Saham yang menyentuh lower limit')\n",
        "print(shmARB_INTP)"
      ],
      "execution_count": 77,
      "outputs": [
        {
          "output_type": "stream",
          "text": [
            "--------------------\n",
            "Saham yang menyentuh upper limit\n",
            "         Date     Open     High     Low       ARA       ARB\n",
            "2  2020-03-23  10950.0  14875.0  9850.0  0.358447 -0.100457\n",
            "--------------------\n",
            "Saham yang menyentuh lower limit\n",
            "          Date     Open     High      Low       ARA       ARB\n",
            "1   2020-03-16  12050.0  12050.0   8650.0  0.000000 -0.282158\n",
            "2   2020-03-23  10950.0  14875.0   9850.0  0.358447 -0.100457\n",
            "3   2020-03-30  13300.0  13300.0  11550.0  0.000000 -0.131579\n",
            "4   2020-04-06  12000.0  13900.0  10775.0  0.158333 -0.102083\n",
            "5   2020-04-13  11700.0  11925.0  10425.0  0.019231 -0.108974\n",
            "8   2020-05-04  11425.0  11425.0  10400.0  0.000000 -0.089716\n",
            "13  2020-06-08  13125.0  13700.0  11625.0  0.043810 -0.114286\n",
            "21  2020-08-03  12425.0  12475.0  11600.0  0.004024 -0.066398\n",
            "26  2020-09-07  11700.0  12100.0  10125.0  0.034188 -0.134615\n",
            "28  2020-09-21  11500.0  11500.0  10250.0  0.000000 -0.108696\n",
            "38  2020-11-30  14725.0  15200.0  13800.0  0.032258 -0.062818\n",
            "41  2020-12-21  14900.0  14975.0  13200.0  0.005034 -0.114094\n",
            "46  2021-01-25  15150.0  15475.0  12800.0  0.021452 -0.155116\n",
            "50  2021-02-22  13725.0  13775.0  12300.0  0.003643 -0.103825\n"
          ],
          "name": "stdout"
        }
      ]
    },
    {
      "cell_type": "code",
      "metadata": {
        "colab": {
          "base_uri": "https://localhost:8080/"
        },
        "id": "nzoIaGBwqDkk",
        "outputId": "b0ab8289-cc8a-44c1-8076-3249b840e652"
      },
      "source": [
        "#20\n",
        "#SAHAM JPFA\n",
        "\n",
        "df_JPFA = pd.read_csv(r'/content/drive/MyDrive/DATA PENELITIAN weekly/JPFA.JK.csv')\n",
        "ARB = (df_JPFA['Low']-df_JPFA['Open'])/df_JPFA['Open']\n",
        "ARA = (df_JPFA['High']-df_JPFA['Open'])/df_JPFA['Open']\n",
        "shmbca = {'Date' : df_JPFA['Date'],\n",
        "          'Open' : df_JPFA['Open'],\n",
        "          'High' : df_JPFA['High'],\n",
        "          'Low'  : df_JPFA['Low'],\n",
        "          'ARA'  : ARA,\n",
        "          'ARB'  : ARB,\n",
        "          }\n",
        "\n",
        "df_JPFA_baru = pd.DataFrame(shmbca, columns= ['Date','Open', 'High', 'Low','ARA','ARB'])\n",
        "shmARB_JPFA = df_JPFA_baru.loc[df_JPFA_baru['ARB'] < -0.06]\n",
        "shmARA_JPFA = df_JPFA_baru.loc[df_JPFA_baru['ARA'] > 0.2]\n",
        "print('-'*20)\n",
        "print('Saham yang menyentuh upper limit')\n",
        "print(shmARA_JPFA)\n",
        "print('-'*20)\n",
        "print('Saham yang menyentuh lower limit')\n",
        "print(shmARB_JPFA)"
      ],
      "execution_count": 78,
      "outputs": [
        {
          "output_type": "stream",
          "text": [
            "--------------------\n",
            "Saham yang menyentuh upper limit\n",
            "          Date   Open    High    Low       ARA      ARB\n",
            "2   2020-03-23  835.0  1065.0  760.0  0.275449 -0.08982\n",
            "12  2020-06-01  900.0  1245.0  900.0  0.383333  0.00000\n",
            "--------------------\n",
            "Saham yang menyentuh lower limit\n",
            "          Date    Open    High     Low       ARA       ARB\n",
            "1   2020-03-16  1200.0  1200.0   810.0  0.000000 -0.325000\n",
            "2   2020-03-23   835.0  1065.0   760.0  0.275449 -0.089820\n",
            "3   2020-03-30   960.0  1005.0   875.0  0.046875 -0.088542\n",
            "4   2020-04-06   990.0  1040.0   855.0  0.050505 -0.136364\n",
            "6   2020-04-20   935.0   970.0   830.0  0.037433 -0.112299\n",
            "13  2020-06-08  1280.0  1345.0  1075.0  0.050781 -0.160156\n",
            "15  2020-06-22  1280.0  1295.0  1180.0  0.011719 -0.078125\n",
            "20  2020-07-27  1130.0  1145.0  1055.0  0.013274 -0.066372\n",
            "21  2020-08-03  1060.0  1070.0   990.0  0.009434 -0.066038\n",
            "26  2020-09-07  1170.0  1200.0  1000.0  0.025641 -0.145299\n",
            "38  2020-11-30  1400.0  1460.0  1305.0  0.042857 -0.067857\n",
            "41  2020-12-21  1635.0  1720.0  1460.0  0.051988 -0.107034\n",
            "45  2021-01-18  1560.0  1625.0  1465.0  0.041667 -0.060897\n",
            "46  2021-01-25  1565.0  1630.0  1300.0  0.041534 -0.169329\n"
          ],
          "name": "stdout"
        }
      ]
    },
    {
      "cell_type": "code",
      "metadata": {
        "colab": {
          "base_uri": "https://localhost:8080/"
        },
        "id": "-M-iWu4LqebP",
        "outputId": "61cf0854-b22c-4dd0-9d5f-72ef89eae3c5"
      },
      "source": [
        "#21\n",
        "#SAHAM KLBF\n",
        "\n",
        "df_KLBF = pd.read_csv(r'/content/drive/MyDrive/DATA PENELITIAN weekly/KLBF.JK.csv')\n",
        "ARB = (df_KLBF['Low']-df_KLBF['Open'])/df_KLBF['Open']\n",
        "ARA = (df_KLBF['High']-df_KLBF['Open'])/df_KLBF['Open']\n",
        "shmbca = {'Date' : df_KLBF['Date'],\n",
        "          'Open' : df_KLBF['Open'],\n",
        "          'High' : df_KLBF['High'],\n",
        "          'Low'  : df_KLBF['Low'],\n",
        "          'ARA'  : ARA,\n",
        "          'ARB'  : ARB,\n",
        "          }\n",
        "\n",
        "df_KLBF_baru = pd.DataFrame(shmbca, columns= ['Date','Open', 'High', 'Low','ARA','ARB'])\n",
        "shmARB_KLBF = df_KLBF_baru.loc[df_KLBF_baru['ARB'] < -0.06]\n",
        "shmARA_KLBF = df_KLBF_baru.loc[df_KLBF_baru['ARA'] > 0.2]\n",
        "print('-'*20)\n",
        "print('Saham yang menyentuh upper limit')\n",
        "print(shmARA_KLBF)\n",
        "print('-'*20)\n",
        "print('Saham yang menyentuh lower limit')\n",
        "print(shmARB_KLBF)"
      ],
      "execution_count": 79,
      "outputs": [
        {
          "output_type": "stream",
          "text": [
            "--------------------\n",
            "Saham yang menyentuh upper limit\n",
            "          Date    Open    High     Low       ARA       ARB\n",
            "3   2020-03-30  1010.0  1300.0   940.0  0.287129 -0.069307\n",
            "44  2021-01-11  1495.0  1960.0  1495.0  0.311037  0.000000\n",
            "--------------------\n",
            "Saham yang menyentuh lower limit\n",
            "          Date    Open    High     Low       ARA       ARB\n",
            "1   2020-03-16  1020.0  1125.0   915.0  0.102941 -0.102941\n",
            "2   2020-03-23   980.0  1160.0   830.0  0.183673 -0.153061\n",
            "3   2020-03-30  1010.0  1300.0   940.0  0.287129 -0.069307\n",
            "4   2020-04-06  1290.0  1310.0  1085.0  0.015504 -0.158915\n",
            "10  2020-05-18  1400.0  1405.0  1315.0  0.003571 -0.060714\n",
            "12  2020-06-01  1415.0  1440.0  1320.0  0.017668 -0.067138\n",
            "21  2020-08-03  1575.0  1640.0  1470.0  0.041270 -0.066667\n",
            "26  2020-09-07  1585.0  1600.0  1410.0  0.009464 -0.110410\n",
            "28  2020-09-21  1545.0  1585.0  1440.0  0.025890 -0.067961\n",
            "46  2021-01-25  1615.0  1620.0  1455.0  0.003096 -0.099071\n",
            "50  2021-02-22  1595.0  1605.0  1470.0  0.006270 -0.078370\n"
          ],
          "name": "stdout"
        }
      ]
    },
    {
      "cell_type": "code",
      "metadata": {
        "colab": {
          "base_uri": "https://localhost:8080/"
        },
        "id": "t4PLQV3bq1XN",
        "outputId": "20ecb1cd-dffa-4e54-cb42-8d70335fd7c2"
      },
      "source": [
        "#22\n",
        "#SAHAM MNCN\n",
        "\n",
        "df_MNCN = pd.read_csv(r'/content/drive/MyDrive/DATA PENELITIAN weekly/MNCN.JK.csv')\n",
        "ARB = (df_MNCN['Low']-df_MNCN['Open'])/df_MNCN['Open']\n",
        "ARA = (df_MNCN['High']-df_MNCN['Open'])/df_MNCN['Open']\n",
        "shmbca = {'Date' : df_MNCN['Date'],\n",
        "          'Open' : df_MNCN['Open'],\n",
        "          'High' : df_MNCN['High'],\n",
        "          'Low'  : df_MNCN['Low'],\n",
        "          'ARA'  : ARA,\n",
        "          'ARB'  : ARB,\n",
        "          }\n",
        "\n",
        "df_MNCN_baru = pd.DataFrame(shmbca, columns= ['Date','Open', 'High', 'Low','ARA','ARB'])\n",
        "shmARB_MNCN = df_MNCN_baru.loc[df_MNCN_baru['ARB'] < -0.06]\n",
        "shmARA_MNCN = df_MNCN_baru.loc[df_MNCN_baru['ARA'] > 0.2]\n",
        "print('-'*20)\n",
        "print('Saham yang menyentuh upper limit')\n",
        "print(shmARA_MNCN)\n",
        "print('-'*20)\n",
        "print('Saham yang menyentuh lower limit')\n",
        "print(shmARB_MNCN)"
      ],
      "execution_count": 80,
      "outputs": [
        {
          "output_type": "stream",
          "text": [
            "--------------------\n",
            "Saham yang menyentuh upper limit\n",
            "          Date    Open    High     Low       ARA       ARB\n",
            "2   2020-03-23   850.0  1050.0   765.0  0.235294 -0.100000\n",
            "3   2020-03-30   855.0  1045.0   845.0  0.222222 -0.011696\n",
            "12  2020-06-01   850.0  1035.0   850.0  0.217647  0.000000\n",
            "40  2020-12-14  1050.0  1320.0  1030.0  0.257143 -0.019048\n",
            "--------------------\n",
            "Saham yang menyentuh lower limit\n",
            "          Date    Open    High     Low       ARA       ARB\n",
            "1   2020-03-16  1000.0  1000.0   750.0  0.000000 -0.250000\n",
            "2   2020-03-23   850.0  1050.0   765.0  0.235294 -0.100000\n",
            "5   2020-04-13  1140.0  1145.0  1030.0  0.004386 -0.096491\n",
            "6   2020-04-20  1055.0  1060.0   870.0  0.004739 -0.175355\n",
            "9   2020-05-11   845.0   955.0   770.0  0.130178 -0.088757\n",
            "10  2020-05-18   955.0   955.0   845.0  0.000000 -0.115183\n",
            "13  2020-06-08  1005.0  1065.0   910.0  0.059701 -0.094527\n",
            "20  2020-07-27   890.0   905.0   810.0  0.016854 -0.089888\n",
            "21  2020-08-03   815.0   900.0   765.0  0.104294 -0.061350\n",
            "25  2020-08-31   910.0   915.0   835.0  0.005495 -0.082418\n",
            "26  2020-09-07   835.0   885.0   745.0  0.059880 -0.107784\n",
            "28  2020-09-21   780.0   785.0   695.0  0.006410 -0.108974\n",
            "38  2020-11-30  1075.0  1110.0   990.0  0.032558 -0.079070\n",
            "39  2020-12-07  1100.0  1120.0  1025.0  0.018182 -0.068182\n",
            "41  2020-12-21  1270.0  1290.0  1120.0  0.015748 -0.118110\n",
            "45  2021-01-18  1235.0  1245.0  1150.0  0.008097 -0.068826\n",
            "46  2021-01-25  1155.0  1175.0  1020.0  0.017316 -0.116883\n",
            "49  2021-02-15  1130.0  1135.0  1010.0  0.004425 -0.106195\n",
            "51  2021-03-01  1150.0  1175.0  1075.0  0.021739 -0.065217\n"
          ],
          "name": "stdout"
        }
      ]
    },
    {
      "cell_type": "code",
      "metadata": {
        "colab": {
          "base_uri": "https://localhost:8080/"
        },
        "id": "MJtddHCFrQNS",
        "outputId": "f441f725-da0d-4b09-9c05-3ffc62f3f800"
      },
      "source": [
        "#23\n",
        "#SAHAM PGAS\n",
        "\n",
        "df_PGAS = pd.read_csv(r'/content/drive/MyDrive/DATA PENELITIAN weekly/PGAS.JK.csv')\n",
        "ARB = (df_PGAS['Low']-df_PGAS['Open'])/df_PGAS['Open']\n",
        "ARA = (df_PGAS['High']-df_PGAS['Open'])/df_PGAS['Open']\n",
        "shmbca = {'Date' : df_PGAS['Date'],\n",
        "          'Open' : df_PGAS['Open'],\n",
        "          'High' : df_PGAS['High'],\n",
        "          'Low'  : df_PGAS['Low'],\n",
        "          'ARA'  : ARA,\n",
        "          'ARB'  : ARB,\n",
        "          }\n",
        "\n",
        "df_PGAS_baru = pd.DataFrame(shmbca, columns= ['Date','Open', 'High', 'Low','ARA','ARB'])\n",
        "shmARB_PGAS = df_PGAS_baru.loc[df_PGAS_baru['ARB'] < -0.06]\n",
        "shmARA_PGAS = df_PGAS_baru.loc[df_PGAS_baru['ARA'] > 0.2]\n",
        "print('-'*20)\n",
        "print('Saham yang menyentuh upper limit')\n",
        "print(shmARA_PGAS)\n",
        "print('-'*20)\n",
        "print('Saham yang menyentuh lower limit')\n",
        "print(shmARB_PGAS)"
      ],
      "execution_count": 81,
      "outputs": [
        {
          "output_type": "stream",
          "text": [
            "--------------------\n",
            "Saham yang menyentuh upper limit\n",
            "         Date   Open   High    Low       ARA       ARB\n",
            "2  2020-03-23  695.0  835.0  605.0  0.201439 -0.129496\n",
            "--------------------\n",
            "Saham yang menyentuh lower limit\n",
            "          Date    Open    High     Low       ARA       ARB\n",
            "1   2020-03-16   940.0   940.0   695.0  0.000000 -0.260638\n",
            "2   2020-03-23   695.0   835.0   605.0  0.201439 -0.129496\n",
            "6   2020-04-20   830.0   845.0   730.0  0.018072 -0.120482\n",
            "9   2020-05-11   870.0   905.0   780.0  0.040230 -0.103448\n",
            "13  2020-06-08  1070.0  1160.0   960.0  0.084112 -0.102804\n",
            "21  2020-08-03  1265.0  1280.0  1180.0  0.011858 -0.067194\n",
            "26  2020-09-07  1270.0  1275.0   995.0  0.003937 -0.216535\n",
            "27  2020-09-14  1120.0  1155.0  1035.0  0.031250 -0.075893\n",
            "28  2020-09-21  1040.0  1060.0   955.0  0.019231 -0.081731\n",
            "29  2020-09-28  1005.0  1015.0   900.0  0.009950 -0.104478\n",
            "38  2020-11-30  1490.0  1490.0  1335.0  0.000000 -0.104027\n",
            "41  2020-12-21  1800.0  1895.0  1610.0  0.052778 -0.105556\n",
            "46  2021-01-25  1680.0  1680.0  1305.0  0.000000 -0.223214\n",
            "48  2021-02-08  1490.0  1520.0  1395.0  0.020134 -0.063758\n"
          ],
          "name": "stdout"
        }
      ]
    },
    {
      "cell_type": "code",
      "metadata": {
        "colab": {
          "base_uri": "https://localhost:8080/"
        },
        "id": "iPcXKA8Mr85Z",
        "outputId": "cda125e6-9046-4212-ab81-73f2441e3255"
      },
      "source": [
        "#24\n",
        "#SAHAM PTBA\n",
        "\n",
        "df_PTBA = pd.read_csv(r'/content/drive/MyDrive/DATA PENELITIAN weekly/PTBA.JK.csv')\n",
        "ARB = (df_PTBA['Low']-df_PTBA['Open'])/df_PTBA['Open']\n",
        "ARA = (df_PTBA['High']-df_PTBA['Open'])/df_PTBA['Open']\n",
        "shmbca = {'Date' : df_PTBA['Date'],\n",
        "          'Open' : df_PTBA['Open'],\n",
        "          'High' : df_PTBA['High'],\n",
        "          'Low'  : df_PTBA['Low'],\n",
        "          'ARA'  : ARA,\n",
        "          'ARB'  : ARB,\n",
        "          }\n",
        "\n",
        "df_PTBA_baru = pd.DataFrame(shmbca, columns= ['Date','Open', 'High', 'Low','ARA','ARB'])\n",
        "shmARB_PTBA = df_PTBA_baru.loc[df_PTBA_baru['ARB'] < -0.06]\n",
        "shmARA_PTBA = df_PTBA_baru.loc[df_PTBA_baru['ARA'] > 0.2]\n",
        "print('-'*20)\n",
        "print('Saham yang menyentuh upper limit')\n",
        "print(shmARA_PTBA)\n",
        "print('-'*20)\n",
        "print('Saham yang menyentuh lower limit')\n",
        "print(shmARB_PTBA)"
      ],
      "execution_count": 82,
      "outputs": [
        {
          "output_type": "stream",
          "text": [
            "--------------------\n",
            "Saham yang menyentuh upper limit\n",
            "         Date    Open    High     Low       ARA       ARB\n",
            "2  2020-03-23  1790.0  2240.0  1675.0  0.251397 -0.064246\n",
            "--------------------\n",
            "Saham yang menyentuh lower limit\n",
            "          Date    Open    High     Low       ARA       ARB\n",
            "1   2020-03-16  2060.0  2060.0  1385.0  0.000000 -0.327670\n",
            "2   2020-03-23  1790.0  2240.0  1675.0  0.251397 -0.064246\n",
            "3   2020-03-30  2040.0  2230.0  1900.0  0.093137 -0.068627\n",
            "4   2020-04-06  2100.0  2250.0  1935.0  0.071429 -0.078571\n",
            "6   2020-04-20  1990.0  2020.0  1775.0  0.015075 -0.108040\n",
            "9   2020-05-11  2080.0  2160.0  1800.0  0.038462 -0.134615\n",
            "21  2020-08-03  2030.0  2090.0  1895.0  0.029557 -0.066502\n",
            "25  2020-08-31  2150.0  2170.0  2020.0  0.009302 -0.060465\n",
            "26  2020-09-07  2100.0  2130.0  1810.0  0.014286 -0.138095\n",
            "41  2020-12-21  2980.0  3080.0  2700.0  0.033557 -0.093960\n",
            "43  2021-01-04  2810.0  3000.0  2620.0  0.067616 -0.067616\n",
            "45  2021-01-18  2940.0  3020.0  2720.0  0.027211 -0.074830\n",
            "46  2021-01-25  2770.0  2850.0  2480.0  0.028881 -0.104693\n",
            "47  2021-02-01  2590.0  2650.0  2400.0  0.023166 -0.073359\n"
          ],
          "name": "stdout"
        }
      ]
    },
    {
      "cell_type": "code",
      "metadata": {
        "colab": {
          "base_uri": "https://localhost:8080/"
        },
        "id": "xTArfAp1sWgK",
        "outputId": "2bbd70ab-b55e-4b31-d30a-d579e6858a44"
      },
      "source": [
        "#25\n",
        "#SAHAM PTPP\n",
        "\n",
        "df_PTPP = pd.read_csv(r'/content/drive/MyDrive/DATA PENELITIAN weekly/PTPP.JK.csv')\n",
        "ARB = (df_PTPP['Low']-df_PTPP['Open'])/df_PTPP['Open']\n",
        "ARA = (df_PTPP['High']-df_PTPP['Open'])/df_PTPP['Open']\n",
        "shmbca = {'Date' : df_PTPP['Date'],\n",
        "          'Open' : df_PTPP['Open'],\n",
        "          'High' : df_PTPP['High'],\n",
        "          'Low'  : df_PTPP['Low'],\n",
        "          'ARA'  : ARA,\n",
        "          'ARB'  : ARB,\n",
        "          }\n",
        "\n",
        "df_PTPP_baru = pd.DataFrame(shmbca, columns= ['Date','Open', 'High', 'Low','ARA','ARB'])\n",
        "shmARB_PTPP = df_PTPP_baru.loc[df_PTPP_baru['ARB'] < -0.06]\n",
        "shmARA_PTPP = df_PTPP_baru.loc[df_PTPP_baru['ARA'] > 0.2]\n",
        "print('-'*20)\n",
        "print('Saham yang menyentuh upper limit')\n",
        "print(shmARA_PTPP)\n",
        "print('-'*20)\n",
        "print('Saham yang menyentuh lower limit')\n",
        "print(shmARB_PTPP)"
      ],
      "execution_count": 83,
      "outputs": [
        {
          "output_type": "stream",
          "text": [
            "--------------------\n",
            "Saham yang menyentuh upper limit\n",
            "          Date    Open    High     Low       ARA       ARB\n",
            "2   2020-03-23   520.0   630.0   484.0  0.211538 -0.069231\n",
            "4   2020-04-06   595.0   830.0   580.0  0.394958 -0.025210\n",
            "12  2020-06-01   725.0   885.0   725.0  0.220690  0.000000\n",
            "37  2020-11-23  1155.0  1415.0  1155.0  0.225108  0.000000\n",
            "--------------------\n",
            "Saham yang menyentuh lower limit\n",
            "          Date    Open    High     Low       ARA       ARB\n",
            "1   2020-03-16   730.0   755.0   555.0  0.034247 -0.239726\n",
            "2   2020-03-23   520.0   630.0   484.0  0.211538 -0.069231\n",
            "3   2020-03-30   585.0   585.0   490.0  0.000000 -0.162393\n",
            "6   2020-04-20   715.0   725.0   595.0  0.013986 -0.167832\n",
            "7   2020-04-27   625.0   695.0   585.0  0.112000 -0.064000\n",
            "9   2020-05-11   680.0   710.0   600.0  0.044118 -0.117647\n",
            "13  2020-06-08   880.0   995.0   795.0  0.130682 -0.096591\n",
            "20  2020-07-27  1045.0  1050.0   970.0  0.004785 -0.071770\n",
            "21  2020-08-03   975.0  1000.0   880.0  0.025641 -0.097436\n",
            "25  2020-08-31  1010.0  1020.0   930.0  0.009901 -0.079208\n",
            "26  2020-09-07   950.0   965.0   795.0  0.015789 -0.163158\n",
            "27  2020-09-14   900.0   905.0   825.0  0.005556 -0.083333\n",
            "28  2020-09-21   840.0   870.0   785.0  0.035714 -0.065476\n",
            "29  2020-09-28   850.0   875.0   790.0  0.029412 -0.070588\n",
            "38  2020-11-30  1410.0  1680.0  1295.0  0.191489 -0.081560\n",
            "39  2020-12-07  1650.0  1675.0  1535.0  0.015152 -0.069697\n",
            "41  2020-12-21  1870.0  1970.0  1675.0  0.053476 -0.104278\n",
            "45  2021-01-18  2300.0  2360.0  1865.0  0.026087 -0.189130\n",
            "46  2021-01-25  1910.0  1915.0  1570.0  0.002618 -0.178010\n",
            "47  2021-02-01  1625.0  1845.0  1525.0  0.135385 -0.061538\n",
            "49  2021-02-15  1770.0  1890.0  1620.0  0.067797 -0.084746\n",
            "51  2021-03-01  1630.0  1735.0  1525.0  0.064417 -0.064417\n"
          ],
          "name": "stdout"
        }
      ]
    },
    {
      "cell_type": "code",
      "metadata": {
        "colab": {
          "base_uri": "https://localhost:8080/"
        },
        "id": "bSdK_Ylz2mCP",
        "outputId": "17101d4c-2944-4abf-8c30-047389eb7ec8"
      },
      "source": [
        "#26\n",
        "#SAHAM SMGR\n",
        "\n",
        "df_SMGR = pd.read_csv(r'/content/drive/MyDrive/DATA PENELITIAN weekly/SMGR.JK.csv')\n",
        "ARB = (df_SMGR['Low']-df_SMGR['Open'])/df_SMGR['Open']\n",
        "ARA = (df_SMGR['High']-df_SMGR['Open'])/df_SMGR['Open']\n",
        "shmbca = {'Date' : df_SMGR['Date'],\n",
        "          'Open' : df_SMGR['Open'],\n",
        "          'High' : df_SMGR['High'],\n",
        "          'Low'  : df_SMGR['Low'],\n",
        "          'ARA'  : ARA,\n",
        "          'ARB'  : ARB,\n",
        "          }\n",
        "\n",
        "df_SMGR_baru = pd.DataFrame(shmbca, columns= ['Date','Open', 'High', 'Low','ARA','ARB'])\n",
        "shmARB_SMGR = df_SMGR_baru.loc[df_SMGR_baru['ARB'] < -0.06]\n",
        "shmARA_SMGR = df_SMGR_baru.loc[df_SMGR_baru['ARA'] > 0.2]\n",
        "print('-'*20)\n",
        "print('Saham yang menyentuh upper limit')\n",
        "print(shmARA_SMGR)\n",
        "print('-'*20)\n",
        "print('Saham yang menyentuh lower limit')\n",
        "print(shmARB_SMGR)"
      ],
      "execution_count": 84,
      "outputs": [
        {
          "output_type": "stream",
          "text": [
            "--------------------\n",
            "Saham yang menyentuh upper limit\n",
            "Empty DataFrame\n",
            "Columns: [Date, Open, High, Low, ARA, ARB]\n",
            "Index: []\n",
            "--------------------\n",
            "Saham yang menyentuh lower limit\n",
            "          Date     Open     High      Low       ARA       ARB\n",
            "1   2020-03-16   7475.0   7650.0   5475.0  0.023411 -0.267559\n",
            "2   2020-03-23   6900.0   8150.0   5975.0  0.181159 -0.134058\n",
            "3   2020-03-30   7975.0   7975.0   6950.0  0.000000 -0.128527\n",
            "5   2020-04-13   8100.0   8100.0   6325.0  0.000000 -0.219136\n",
            "6   2020-04-20   6500.0   7400.0   5800.0  0.138462 -0.107692\n",
            "8   2020-05-04   7775.0   7800.0   7250.0  0.003215 -0.067524\n",
            "13  2020-06-08   9550.0  10400.0   8900.0  0.089005 -0.068063\n",
            "26  2020-09-07  10400.0  10625.0   8750.0  0.021635 -0.158654\n",
            "28  2020-09-21   9325.0   9375.0   8600.0  0.005362 -0.077748\n",
            "34  2020-11-02   9475.0  10375.0   8850.0  0.094987 -0.065963\n",
            "38  2020-11-30  11925.0  12200.0  11100.0  0.023061 -0.069182\n",
            "43  2021-01-04  12425.0  12700.0  11550.0  0.022133 -0.070423\n",
            "46  2021-01-25  12000.0  12125.0  10600.0  0.010417 -0.116667\n",
            "50  2021-02-22  10750.0  10800.0   9950.0  0.004651 -0.074419\n"
          ],
          "name": "stdout"
        }
      ]
    },
    {
      "cell_type": "code",
      "metadata": {
        "colab": {
          "base_uri": "https://localhost:8080/"
        },
        "id": "1zWF6jJD5fEN",
        "outputId": "49966a9c-eb77-483c-c60b-5255a2c6ed2e"
      },
      "source": [
        "#27\n",
        "#SAHAM TLKM\n",
        "\n",
        "df_TLKM = pd.read_csv(r'/content/drive/MyDrive/DATA PENELITIAN weekly/TLKM.JK.csv')\n",
        "ARB = (df_TLKM['Low']-df_TLKM['Open'])/df_TLKM['Open']\n",
        "ARA = (df_TLKM['High']-df_TLKM['Open'])/df_TLKM['Open']\n",
        "shmbca = {'Date' : df_TLKM['Date'],\n",
        "          'Open' : df_TLKM['Open'],\n",
        "          'High' : df_TLKM['High'],\n",
        "          'Low'  : df_TLKM['Low'],\n",
        "          'ARA'  : ARA,\n",
        "          'ARB'  : ARB,\n",
        "          }\n",
        "\n",
        "df_TLKM_baru = pd.DataFrame(shmbca, columns= ['Date','Open', 'High', 'Low','ARA','ARB'])\n",
        "shmARB_TLKM = df_TLKM_baru.loc[df_TLKM_baru['ARB'] < -0.06]\n",
        "shmARA_TLKM = df_TLKM_baru.loc[df_TLKM_baru['ARA'] > 0.2]\n",
        "print('-'*20)\n",
        "print('Saham yang menyentuh upper limit')\n",
        "print(shmARA_TLKM)\n",
        "print('-'*20)\n",
        "print('Saham yang menyentuh lower limit')\n",
        "print(shmARB_TLKM)"
      ],
      "execution_count": 85,
      "outputs": [
        {
          "output_type": "stream",
          "text": [
            "--------------------\n",
            "Saham yang menyentuh upper limit\n",
            "Empty DataFrame\n",
            "Columns: [Date, Open, High, Low, ARA, ARB]\n",
            "Index: []\n",
            "--------------------\n",
            "Saham yang menyentuh lower limit\n",
            "          Date    Open    High     Low       ARA       ARB\n",
            "1   2020-03-16  3300.0  3300.0  2450.0  0.000000 -0.257576\n",
            "2   2020-03-23  2880.0  3270.0  2550.0  0.135417 -0.114583\n",
            "4   2020-04-06  3280.0  3500.0  3030.0  0.067073 -0.076220\n",
            "6   2020-04-20  3270.0  3270.0  3030.0  0.000000 -0.073394\n",
            "8   2020-05-04  3400.0  3400.0  3150.0  0.000000 -0.073529\n",
            "9   2020-05-11  3220.0  3270.0  3020.0  0.015528 -0.062112\n",
            "13  2020-06-08  3250.0  3290.0  2970.0  0.012308 -0.086154\n",
            "21  2020-08-03  3060.0  3060.0  2850.0  0.000000 -0.068627\n",
            "26  2020-09-07  2870.0  2910.0  2620.0  0.013937 -0.087108\n",
            "28  2020-09-21  2890.0  2910.0  2670.0  0.006920 -0.076125\n",
            "29  2020-09-28  2710.0  2760.0  2540.0  0.018450 -0.062731\n",
            "32  2020-10-19  2800.0  2810.0  2630.0  0.003571 -0.060714\n",
            "38  2020-11-30  3460.0  3470.0  3160.0  0.002890 -0.086705\n",
            "41  2020-12-21  3530.0  3610.0  3240.0  0.022663 -0.082153\n",
            "46  2021-01-25  3370.0  3410.0  3110.0  0.011869 -0.077151\n"
          ],
          "name": "stdout"
        }
      ]
    },
    {
      "cell_type": "code",
      "metadata": {
        "colab": {
          "base_uri": "https://localhost:8080/"
        },
        "id": "YmGHO8oq59Wg",
        "outputId": "8e0c5183-d8d1-4e81-b8ce-445b56fb6333"
      },
      "source": [
        "#28\n",
        "#SAHAM UNTR\n",
        "\n",
        "df_UNTR = pd.read_csv(r'/content/drive/MyDrive/DATA PENELITIAN weekly/UNTR.JK.csv')\n",
        "ARB = (df_UNTR['Low']-df_UNTR['Open'])/df_UNTR['Open']\n",
        "ARA = (df_UNTR['High']-df_UNTR['Open'])/df_UNTR['Open']\n",
        "shmbca = {'Date' : df_UNTR['Date'],\n",
        "          'Open' : df_UNTR['Open'],\n",
        "          'High' : df_UNTR['High'],\n",
        "          'Low'  : df_UNTR['Low'],\n",
        "          'ARA'  : ARA,\n",
        "          'ARB'  : ARB,\n",
        "          }\n",
        "\n",
        "df_UNTR_baru = pd.DataFrame(shmbca, columns= ['Date','Open', 'High', 'Low','ARA','ARB'])\n",
        "shmARB_UNTR = df_UNTR_baru.loc[df_UNTR_baru['ARB'] < -0.06]\n",
        "shmARA_UNTR = df_UNTR_baru.loc[df_UNTR_baru['ARA'] > 0.2]\n",
        "print('-'*20)\n",
        "print('Saham yang menyentuh upper limit')\n",
        "print(shmARA_UNTR)\n",
        "print('-'*20)\n",
        "print('Saham yang menyentuh lower limit')\n",
        "print(shmARB_UNTR)"
      ],
      "execution_count": 86,
      "outputs": [
        {
          "output_type": "stream",
          "text": [
            "--------------------\n",
            "Saham yang menyentuh upper limit\n",
            "Empty DataFrame\n",
            "Columns: [Date, Open, High, Low, ARA, ARB]\n",
            "Index: []\n",
            "--------------------\n",
            "Saham yang menyentuh lower limit\n",
            "          Date     Open     High      Low       ARA       ARB\n",
            "1   2020-03-16  15400.0  15400.0  12000.0  0.000000 -0.220779\n",
            "2   2020-03-23  14500.0  16425.0  13600.0  0.132759 -0.062069\n",
            "6   2020-04-20  17200.0  17600.0  16000.0  0.023256 -0.069767\n",
            "7   2020-04-27  16400.0  16550.0  15100.0  0.009146 -0.079268\n",
            "9   2020-05-11  16000.0  16125.0  14000.0  0.007812 -0.125000\n",
            "13  2020-06-08  17300.0  18375.0  15700.0  0.062139 -0.092486\n",
            "15  2020-06-22  17350.0  17500.0  16300.0  0.008646 -0.060519\n",
            "21  2020-08-03  21500.0  25175.0  19875.0  0.170930 -0.075581\n",
            "22  2020-08-10  24700.0  25000.0  22650.0  0.012146 -0.082996\n",
            "26  2020-09-07  23000.0  23325.0  20625.0  0.014130 -0.103261\n",
            "41  2020-12-21  26900.0  28475.0  25250.0  0.058550 -0.061338\n",
            "46  2021-01-25  25250.0  25300.0  22300.0  0.001980 -0.116832\n"
          ],
          "name": "stdout"
        }
      ]
    },
    {
      "cell_type": "code",
      "metadata": {
        "colab": {
          "base_uri": "https://localhost:8080/"
        },
        "id": "RW7TG9N86X9j",
        "outputId": "50b6ae43-3964-4a2b-dd64-0f6c24f055c4"
      },
      "source": [
        "#29\n",
        "#SAHAM UNVR\n",
        "\n",
        "df_UNVR = pd.read_csv(r'/content/drive/MyDrive/DATA PENELITIAN weekly/UNVR.csv')\n",
        "ARB = (df_UNVR['Low']-df_UNVR['Open'])/df_UNVR['Open']\n",
        "ARA = (df_UNVR['High']-df_UNVR['Open'])/df_UNVR['Open']\n",
        "shmbca = {'Date' : df_UNVR['Date'],\n",
        "          'Open' : df_UNVR['Open'],\n",
        "          'High' : df_UNVR['High'],\n",
        "          'Low'  : df_UNVR['Low'],\n",
        "          'ARA'  : ARA,\n",
        "          'ARB'  : ARB,\n",
        "          }\n",
        "\n",
        "df_UNVR_baru = pd.DataFrame(shmbca, columns= ['Date','Open', 'High', 'Low','ARA','ARB'])\n",
        "shmARB_UNVR = df_UNVR_baru.loc[df_UNVR_baru['ARB'] < -0.06]\n",
        "shmARA_UNVR = df_UNVR_baru.loc[df_UNVR_baru['ARA'] > 0.2]\n",
        "print('-'*20)\n",
        "print('Saham yang menyentuh upper limit')\n",
        "print(shmARA_UNVR)\n",
        "print('-'*20)\n",
        "print('Saham yang menyentuh lower limit')\n",
        "print(shmARB_UNVR)"
      ],
      "execution_count": 87,
      "outputs": [
        {
          "output_type": "stream",
          "text": [
            "--------------------\n",
            "Saham yang menyentuh upper limit\n",
            "          Date   Open       High    Low       ARA       ARB\n",
            "2   2020-03-23   8.56  12.740000   8.48  0.488318 -0.009346\n",
            "4   2020-04-06  10.38  13.190000  10.34  0.270713 -0.003854\n",
            "7   2020-04-27  12.39  15.140000  12.39  0.221953  0.000000\n",
            "12  2020-06-01  15.40  18.809999  15.31  0.221429 -0.005844\n",
            "--------------------\n",
            "Saham yang menyentuh lower limit\n",
            "          Date       Open       High        Low       ARA       ARB\n",
            "0   2020-03-09  11.010000  11.600000  10.030000  0.053588 -0.089010\n",
            "1   2020-03-16  10.180000  10.210000   6.400000  0.002947 -0.371316\n",
            "3   2020-03-30  10.810000  11.140000   9.310000  0.030527 -0.138760\n",
            "5   2020-04-13  13.190000  13.260000  10.790000  0.005307 -0.181956\n",
            "9   2020-05-11  15.540000  15.826000  11.260000  0.018404 -0.275418\n",
            "13  2020-06-08  18.059999  18.270000  15.570000  0.011628 -0.137874\n",
            "17  2020-07-06  17.530001  17.809999  16.280001  0.015973 -0.071306\n",
            "25  2020-08-31  19.049999  19.105000  16.610001  0.002887 -0.128084\n",
            "28  2020-09-21  17.680000  17.760000  15.700000  0.004525 -0.111991\n",
            "33  2020-10-26  18.650000  18.719999  16.180000  0.003753 -0.132440\n",
            "35  2020-11-09  18.500000  19.000000  16.690001  0.027027 -0.097838\n",
            "46  2021-01-25  20.070000  20.280001  18.480000  0.010463 -0.079223\n",
            "50  2021-02-22  20.959999  22.080000  19.490000  0.053435 -0.070134\n"
          ],
          "name": "stdout"
        }
      ]
    },
    {
      "cell_type": "code",
      "metadata": {
        "colab": {
          "base_uri": "https://localhost:8080/"
        },
        "id": "UWAxLryP6xE_",
        "outputId": "f94b6508-f09d-4f86-d56b-151d059786fd"
      },
      "source": [
        "#30\n",
        "#SAHAM WSKT\n",
        "\n",
        "df_WSKT = pd.read_csv(r'/content/drive/MyDrive/DATA PENELITIAN weekly/WSKT.JK.csv')\n",
        "ARB = (df_WSKT['Low']-df_WSKT['Open'])/df_WSKT['Open']\n",
        "ARA = (df_WSKT['High']-df_WSKT['Open'])/df_WSKT['Open']\n",
        "shmbca = {'Date' : df_WSKT['Date'],\n",
        "          'Open' : df_WSKT['Open'],\n",
        "          'High' : df_WSKT['High'],\n",
        "          'Low'  : df_WSKT['Low'],\n",
        "          'ARA'  : ARA,\n",
        "          'ARB'  : ARB,\n",
        "          }\n",
        "\n",
        "df_WSKT_baru = pd.DataFrame(shmbca, columns= ['Date','Open', 'High', 'Low','ARA','ARB'])\n",
        "shmARB_WSKT = df_WSKT_baru.loc[df_WSKT_baru['ARB'] < -0.06]\n",
        "shmARA_WSKT = df_WSKT_baru.loc[df_WSKT_baru['ARA'] > 0.2]\n",
        "print('-'*20)\n",
        "print('Saham yang menyentuh upper limit')\n",
        "print(shmARA_WSKT)\n",
        "print('-'*20)\n",
        "print('Saham yang menyentuh lower limit')\n",
        "print(shmARB_WSKT)"
      ],
      "execution_count": 89,
      "outputs": [
        {
          "output_type": "stream",
          "text": [
            "--------------------\n",
            "Saham yang menyentuh upper limit\n",
            "          Date    Open    High     Low       ARA       ARB\n",
            "2   2020-03-23   436.0   555.0   394.0  0.272936 -0.096330\n",
            "4   2020-04-06   520.0   725.0   515.0  0.394231 -0.009615\n",
            "12  2020-06-01   610.0   760.0   605.0  0.245902 -0.008197\n",
            "31  2020-10-12   595.0   745.0   575.0  0.252101 -0.033613\n",
            "35  2020-11-09   760.0   970.0   755.0  0.276316 -0.006579\n",
            "40  2020-12-14  1160.0  1570.0  1160.0  0.353448  0.000000\n",
            "--------------------\n",
            "Saham yang menyentuh lower limit\n",
            "          Date    Open    High     Low       ARA       ARB\n",
            "0   2020-03-09   675.0   675.0   600.0  0.000000 -0.111111\n",
            "1   2020-03-16   630.0   630.0   452.0  0.000000 -0.282540\n",
            "2   2020-03-23   436.0   555.0   394.0  0.272936 -0.096330\n",
            "6   2020-04-20   625.0   635.0   550.0  0.016000 -0.120000\n",
            "9   2020-05-11   610.0   635.0   560.0  0.040984 -0.081967\n",
            "13  2020-06-08   755.0   825.0   650.0  0.092715 -0.139073\n",
            "20  2020-07-27   710.0   715.0   620.0  0.007042 -0.126761\n",
            "21  2020-08-03   625.0   640.0   585.0  0.024000 -0.064000\n",
            "25  2020-08-31   660.0   665.0   620.0  0.007576 -0.060606\n",
            "26  2020-09-07   630.0   640.0   535.0  0.015873 -0.150794\n",
            "28  2020-09-21   570.0   580.0   486.0  0.017544 -0.147368\n",
            "38  2020-11-30  1120.0  1240.0  1015.0  0.107143 -0.093750\n",
            "41  2020-12-21  1550.0  1600.0  1320.0  0.032258 -0.148387\n",
            "45  2021-01-18  1960.0  2080.0  1685.0  0.061224 -0.140306\n",
            "46  2021-01-25  1660.0  1685.0  1375.0  0.015060 -0.171687\n",
            "47  2021-02-01  1415.0  1560.0  1320.0  0.102473 -0.067138\n",
            "49  2021-02-15  1570.0  1660.0  1455.0  0.057325 -0.073248\n"
          ],
          "name": "stdout"
        }
      ]
    },
    {
      "cell_type": "code",
      "metadata": {
        "id": "8PAGMVKT9r_V"
      },
      "source": [
        "\n",
        "# Create a Pandas Excel writer using XlsxWriter as the engine.\n",
        "writer1 = pd.ExcelWriter('Proyek16-30 ARA.xlsx')\n",
        "shmARA_INCO.to_excel(writer1, sheet_name='INCO_ARA')\n",
        "shmARA_INDF.to_excel(writer1, sheet_name='INDF_ARA')\n",
        "shmARA_INKP.to_excel(writer1, sheet_name='INKP_ARA')\n",
        "shmARA_INTP.to_excel(writer1, sheet_name='INTP_ARA')\n",
        "shmARA_JPFA.to_excel(writer1, sheet_name='JPFA_ARA')\n",
        "shmARA_KLBF.to_excel(writer1, sheet_name='KLBF_ARA')\n",
        "shmARA_MNCN.to_excel(writer1, sheet_name='MNCN_ARA')\n",
        "shmARA_PGAS.to_excel(writer1, sheet_name='PGAS_ARA')\n",
        "shmARA_PTBA.to_excel(writer1, sheet_name='PTBA_ARA')\n",
        "shmARA_PTPP.to_excel(writer1, sheet_name='PTPP_ARA')\n",
        "shmARA_SMGR.to_excel(writer1, sheet_name='SMGR_ARA')\n",
        "shmARA_TLKM.to_excel(writer1, sheet_name='TLKM_ARA')\n",
        "shmARA_UNTR.to_excel(writer1, sheet_name='UNTR_ARA')\n",
        "shmARA_UNVR.to_excel(writer1, sheet_name='UNVR_ARA')\n",
        "shmARA_WSKT.to_excel(writer1, sheet_name='WSKT_ARA')\n",
        "\n",
        "# Close the Pandas Excel writer and output the Excel file.\n",
        "writer1.save()\n"
      ],
      "execution_count": 90,
      "outputs": []
    },
    {
      "cell_type": "code",
      "metadata": {
        "id": "pEvWs1KTJ8d_"
      },
      "source": [
        "# Create a Pandas Excel writer using XlsxWriter as the engine.\n",
        "writer2 = pd.ExcelWriter('Proyek16-30 ARB.xlsx')\n",
        "shmARA_INCO.to_excel(writer2, sheet_name='INCO_ARB')\n",
        "shmARA_INDF.to_excel(writer2, sheet_name='INDF_ARB')\n",
        "shmARA_INKP.to_excel(writer2, sheet_name='INKP_ARB')\n",
        "shmARA_INTP.to_excel(writer2, sheet_name='INTP_ARB')\n",
        "shmARA_JPFA.to_excel(writer2, sheet_name='JPFA_ARB')\n",
        "shmARA_KLBF.to_excel(writer2, sheet_name='KLBF_ARB')\n",
        "shmARA_MNCN.to_excel(writer2, sheet_name='MNCN_ARB')\n",
        "shmARA_PGAS.to_excel(writer2, sheet_name='PGAS_ARB')\n",
        "shmARA_PTBA.to_excel(writer2, sheet_name='PTBA_ARB')\n",
        "shmARA_PTPP.to_excel(writer2, sheet_name='PTPP_ARB')\n",
        "shmARA_SMGR.to_excel(writer2, sheet_name='SMGR_ARB')\n",
        "shmARA_TLKM.to_excel(writer2, sheet_name='TLKM_ARB')\n",
        "shmARA_UNTR.to_excel(writer2, sheet_name='UNTR_ARB')\n",
        "shmARA_UNVR.to_excel(writer2, sheet_name='UNVR_ARB')\n",
        "shmARA_WSKT.to_excel(writer2, sheet_name='WSKT_ARB')\n",
        "\n",
        "# Close the Pandas Excel writer and output the Excel file.\n",
        "writer2.save()\n"
      ],
      "execution_count": 91,
      "outputs": []
    }
  ]
}